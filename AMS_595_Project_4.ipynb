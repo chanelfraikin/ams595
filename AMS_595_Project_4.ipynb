{
  "nbformat": 4,
  "nbformat_minor": 0,
  "metadata": {
    "colab": {
      "provenance": []
    },
    "kernelspec": {
      "name": "python3",
      "display_name": "Python 3"
    },
    "language_info": {
      "name": "python"
    }
  },
  "cells": [
    {
      "cell_type": "markdown",
      "source": [
        "# Mandelbrot Set\n",
        "This section computes the Mandelbrot set over the range [−2, 1] × [−1.5, 1.5] using a threshold of 50 and returns an image of the Mandelbrot fractal."
      ],
      "metadata": {
        "id": "WJjv45pd5Vrj"
      }
    },
    {
      "cell_type": "code",
      "source": [
        "import numpy as np\n",
        "import matplotlib.pyplot as plt\n",
        "import sympy\n",
        "from sympy import symbols, diff\n",
        "import math\n",
        "from math import factorial\n",
        "import pandas as pd"
      ],
      "metadata": {
        "id": "LVPZ4lgC6-za"
      },
      "execution_count": 44,
      "outputs": []
    },
    {
      "cell_type": "code",
      "source": [
        "%%writefile mandelbrot.py\n",
        "## Mandelbrot Set\n",
        "#This section computes the Mandelbrot set over the range [−2, 1] × [−1.5, 1.5] using a threshold of 50 and returns an image of the Mandelbrot fractal.\n",
        "\n",
        "x, y = np.mgrid[-2:1:200j, -1.5:1.5:200j]\n",
        "c_grid = x + 1j * y #200x200 grid of complex numbers\n",
        "z_grid = np.zeros((200, 200)) #initalize grid to store z values\n",
        "N_max = 100\n",
        "\n",
        "# Calculate the Mandelbrot Set for each point\n",
        "for i in range(c_grid.shape[0]):\n",
        "     for j in range(c_grid.shape[1]):\n",
        "        z = 0\n",
        "        iterations = 0\n",
        "\n",
        "        while abs(z) <= 2 and iterations < N_max:\n",
        "          z = z*z + c_grid[i,j]\n",
        "          iterations += 1\n",
        "        z_grid[i,j] = abs(z) #stores the z value in the z_grid\n",
        "#the mask only keeps values that are less than 2\n",
        "mask = z_grid < 2\n",
        "\n",
        "#plot the set\n",
        "plt.imshow(mask.T, extent=[-2, 1, -1.5, 1.5])\n",
        "plt.gray()\n",
        "plt.savefig('mandelbrot.png')\n",
        "plt.show()"
      ],
      "metadata": {
        "colab": {
          "base_uri": "https://localhost:8080/"
        },
        "id": "2f0QCVGG6b6F",
        "outputId": "f5c52eab-d2b4-4d8b-e31c-1cee181d4a96"
      },
      "execution_count": 45,
      "outputs": [
        {
          "output_type": "stream",
          "name": "stdout",
          "text": [
            "Writing mandelbrot.py\n"
          ]
        }
      ]
    },
    {
      "cell_type": "code",
      "source": [
        "#Markov Chain\n",
        "%%writefile markov_chain.py\n",
        "\n",
        "#create random 5x5 matrix\n",
        "P = np.random.rand(5,5)\n",
        "row_norms = P.sum(axis=1, keepdims=True)\n",
        "P = P / row_norms\n",
        "\n",
        "#create random 5x1 vector\n",
        "p = np.random.rand(5,1)\n",
        "p = p / p.sum()\n",
        "\n",
        "#Apply the transition rule 50 times\n",
        "p_hat = p\n",
        "for i in range(50):\n",
        "  p_hat = np.dot(P.transpose(), p_hat)\n",
        "\n",
        "#get eigenvalues and eigenvectors from P^T\n",
        "eigenvalues, eigenvectors = np.linalg.eig(P.transpose())\n",
        "\n",
        "#the first eigenvector corresponds to eigenvalue 1\n",
        "stat_dist = eigenvectors.transpose()[0]\n",
        "stat_dist = stat_dist / stat_dist.sum()\n",
        "\n",
        "#Compute the difference\n",
        "difference = stat_dist - p_hat.transpose()\n",
        "print(difference)\n",
        "#We can see in the output that they match very closely\n"
      ],
      "metadata": {
        "colab": {
          "base_uri": "https://localhost:8080/"
        },
        "id": "-xSFqRBON-BT",
        "outputId": "5f919ac0-d56c-475a-e677-a00c4e848c3b"
      },
      "execution_count": 46,
      "outputs": [
        {
          "output_type": "stream",
          "name": "stdout",
          "text": [
            "Writing markov_chain.py\n"
          ]
        }
      ]
    },
    {
      "cell_type": "code",
      "source": [
        "#Taylor Approximation\n",
        "#and outputs a NumPy array of points approximating f in the interval (start, end).\n",
        "%%writefile taylor.py\n",
        "from sympy import symbols, diff\n",
        "\n",
        "def function_approx(func, start, end, num_points, degree, fixed_c):\n",
        "  # Define x as a symbolic variable for use in the derivative\n",
        "  x = symbols('x')\n",
        "\n",
        "  inputs = np.linspace(start, end, num_points)\n",
        "  outputs = np.zeros(len(inputs))\n",
        "\n",
        "  for j in range(len(outputs)):\n",
        "    for i in range(degree+1):\n",
        "\n",
        "      outputs[j] = outputs[j] + diff(func, x, i).subs(x, fixed_c) * (inputs[j]-fixed_c)**i / factorial(i)\n",
        "\n",
        "  return outputs"
      ],
      "metadata": {
        "colab": {
          "base_uri": "https://localhost:8080/"
        },
        "id": "RtAsHH4PRf3l",
        "outputId": "3e939063-a08a-4694-9cb6-914c58df17c0"
      },
      "execution_count": 47,
      "outputs": [
        {
          "output_type": "stream",
          "name": "stdout",
          "text": [
            "Writing taylor.py\n"
          ]
        }
      ]
    },
    {
      "cell_type": "code",
      "source": [
        "x = symbols('x')\n",
        "test_function = x * sympy.sin(x)**2 + sympy.cos(x)\n",
        "\n",
        "# Evaluate the test_function over a range of numerical values for plotting\n",
        "x_values = np.linspace(-10, 10, 100)\n",
        "actual_y_values = [test_function.subs(x, val) for val in x_values]\n",
        "approx_y_values = function_approx(test_function, -10, 10, 100, 100, 0)\n",
        "\n",
        "plt.figure()\n",
        "# Plot approximation\n",
        "plt.plot(x_values, approx_y_values, 'o', label='Taylor Approximation')\n",
        "# Plot original function\n",
        "plt.plot(x_values, actual_y_values, label='Actual')\n",
        "plt.legend()\n",
        "plt.xlabel('x')\n",
        "plt.ylabel('xsin^2(x)+cos(x)')\n",
        "plt.show()\n",
        "\n"
      ],
      "metadata": {
        "colab": {
          "base_uri": "https://localhost:8080/",
          "height": 449
        },
        "id": "yHbxZdCUpLPf",
        "outputId": "b5285e4e-fd71-4114-abfa-cff19b32e5df"
      },
      "execution_count": 48,
      "outputs": [
        {
          "output_type": "display_data",
          "data": {
            "text/plain": [
              "<Figure size 640x480 with 1 Axes>"
            ],
            "image/png": "[encoded data removed]"
          },
          "metadata": {}
        }
      ]
    },
    {
      "cell_type": "code",
      "source": [
        "import time\n",
        "\n",
        "def time_analysis(func, start, end, num_points, fixed_c, initial_degree, final_degree, degree_step):\n",
        "  \"\"\"\n",
        "  This function runs the approximation function a specified amount of times\n",
        "  and returns a csv file that contains the sum of the differences of each point\n",
        "  and the time it took for each run.\n",
        "  \"\"\"\n",
        "  #creates the range of degrees we need to run the taylor approximation\n",
        "  #function on\n",
        "  num_degrees = int((final_degree - initial_degree) / degree_step) + 1\n",
        "  degree_range = np.linspace(initial_degree, final_degree, num_degrees)\n",
        "\n",
        "  #evaluates the actual function\n",
        "  x_values = np.linspace(start, end, num_points)\n",
        "  actual_y_values = [func.subs(x, val) for val in x_values]\n",
        "\n",
        "\n",
        "  #this part iterates through the degrees we want to test and stores the\n",
        "  #time it took in a vector\n",
        "  elapsed_time = np.zeros(len(degree_range))\n",
        "  sum_diff = np.zeros(len(degree_range))\n",
        "\n",
        "  for i in range(len(degree_range)):\n",
        "    start_time = time.perf_counter()\n",
        "    approx_y_values = function_approx(func, start, end, num_points, int(degree_range[i]), fixed_c)\n",
        "    end_time = time.perf_counter()\n",
        "    for j in range(len(approx_y_values)):\n",
        "      sum_diff[i] = sum_diff[i] + abs(actual_y_values[j] - approx_y_values[j])\n",
        "    elapsed_time[i] = end_time - start_time\n",
        "\n",
        "  #this part stores in the information in a Pandas dataframe\n",
        "  taylor_values = pd.DataFrame({'Degree': degree_range, 'Time': elapsed_time, 'Sum': sum_diff})\n",
        "\n",
        "  #this part writes the Pandas dataframe to a csv file titled taylor_values.csv\n",
        "  taylor_values.to_csv('taylor_values.csv', index=False)\n",
        "\n",
        "  return taylor_values\n"
      ],
      "metadata": {
        "id": "2N84j7rsuLvb"
      },
      "execution_count": 49,
      "outputs": []
    },
    {
      "cell_type": "code",
      "source": [
        "#this is the test function\n",
        "x = symbols('x')\n",
        "test_function = x * sympy.sin(x)**2 + sympy.cos(x)\n",
        "\n",
        "#running the time_analysis function\n",
        "x_values = np.linspace(-10, 10, 100)\n",
        "taylor_values = time_analysis(test_function, -10, 10, 100, 0, 50, 100, 10)\n"
      ],
      "metadata": {
        "id": "cZ9JXr-_6hWW"
      },
      "execution_count": 50,
      "outputs": []
    },
    {
      "cell_type": "code",
      "source": [
        "print(taylor_values)"
      ],
      "metadata": {
        "colab": {
          "base_uri": "https://localhost:8080/"
        },
        "id": "3CiBZ3Hlurpc",
        "outputId": "ccdfcd67-ba6c-4fc8-d25c-9c1198757888"
      },
      "execution_count": 51,
      "outputs": [
        {
          "output_type": "stream",
          "name": "stdout",
          "text": [
            "   Degree       Time           Sum\n",
            "0    50.0   9.986497  4.949573e+01\n",
            "1    60.0  11.879726  1.754322e-03\n",
            "2    70.0  13.701017  3.199614e-07\n",
            "3    80.0  15.675571  3.275207e-07\n",
            "4    90.0  18.262679  3.275206e-07\n",
            "5   100.0  19.610752  3.275206e-07\n"
          ]
        }
      ]
    },
    {
      "cell_type": "code",
      "source": [],
      "metadata": {
        "id": "5UvDMJoTB-LM"
      },
      "execution_count": 51,
      "outputs": []
    }
  ]
}